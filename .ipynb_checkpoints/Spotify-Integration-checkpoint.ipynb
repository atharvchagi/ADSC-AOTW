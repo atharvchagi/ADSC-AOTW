{
 "cells": [
  {
   "cell_type": "code",
   "execution_count": 2,
   "metadata": {},
   "outputs": [
    {
     "ename": "NameError",
     "evalue": "name 'CLIENT_ID' is not defined",
     "output_type": "error",
     "traceback": [
      "\u001b[1;31m---------------------------------------------------------------------------\u001b[0m",
      "\u001b[1;31mNameError\u001b[0m                                 Traceback (most recent call last)",
      "\u001b[1;32m~\\AppData\\Local\\Temp\\ipykernel_15800\\2605667254.py\u001b[0m in \u001b[0;36m<module>\u001b[1;34m\u001b[0m\n\u001b[0;32m      8\u001b[0m \u001b[1;32mimport\u001b[0m \u001b[0mspotipy\u001b[0m\u001b[1;33m\u001b[0m\u001b[1;33m\u001b[0m\u001b[0m\n\u001b[0;32m      9\u001b[0m \u001b[1;32mfrom\u001b[0m \u001b[0mspotipy\u001b[0m\u001b[1;33m.\u001b[0m\u001b[0moauth2\u001b[0m \u001b[1;32mimport\u001b[0m \u001b[0mSpotifyClientCredentials\u001b[0m\u001b[1;33m\u001b[0m\u001b[1;33m\u001b[0m\u001b[0m\n\u001b[1;32m---> 10\u001b[1;33m \u001b[0mspotify\u001b[0m \u001b[1;33m=\u001b[0m \u001b[0mspotipy\u001b[0m\u001b[1;33m.\u001b[0m\u001b[0mSpotify\u001b[0m\u001b[1;33m(\u001b[0m\u001b[0mclient_credentials_manager\u001b[0m\u001b[1;33m=\u001b[0m\u001b[0mSpotifyClientCredentials\u001b[0m\u001b[1;33m(\u001b[0m\u001b[0mclient_id\u001b[0m\u001b[1;33m=\u001b[0m\u001b[0mCLIENT_ID\u001b[0m\u001b[1;33m,\u001b[0m \u001b[0mclient_secret\u001b[0m\u001b[1;33m=\u001b[0m\u001b[0mCLIENT_SECRET\u001b[0m\u001b[1;33m)\u001b[0m\u001b[1;33m)\u001b[0m\u001b[1;33m\u001b[0m\u001b[1;33m\u001b[0m\u001b[0m\n\u001b[0m\u001b[0;32m     11\u001b[0m \u001b[1;33m\u001b[0m\u001b[0m\n\u001b[0;32m     12\u001b[0m \u001b[1;31m#uncomment above and replace CLIENT_ID and CLIENT_SECRET with the id and secret you get from creating your app with spotify (going through the \"Getting Started\" instructions in the Spotify Web API documentation)\u001b[0m\u001b[1;33m\u001b[0m\u001b[1;33m\u001b[0m\u001b[0m\n",
      "\u001b[1;31mNameError\u001b[0m: name 'CLIENT_ID' is not defined"
     ]
    }
   ],
   "source": [
    "import numpy as np\n",
    "import pandas as pd\n",
    "\n",
    "import time\n",
    "\n",
    "import matplotlib.pyplot as plt\n",
    "\n",
    "import spotipy\n",
    "from spotipy.oauth2 import SpotifyClientCredentials \n",
    "spotify = spotipy.Spotify(client_credentials_manager=SpotifyClientCredentials(client_id=CLIENT_ID, client_secret=CLIENT_SECRET))\n",
    "\n",
    "#uncomment above and replace CLIENT_ID and CLIENT_SECRET with the id and secret you get from creating your app with spotify (going through the \"Getting Started\" instructions in the Spotify Web API documentation)\n",
    "\n",
    "from sklearn.model_selection import train_test_split\n",
    "import math"
   ]
  },
  {
   "cell_type": "code",
   "execution_count": 1,
   "metadata": {},
   "outputs": [
    {
     "name": "stdout",
     "output_type": "stream",
     "text": [
      "Collecting spotipy\n",
      "  Downloading spotipy-2.23.0-py3-none-any.whl (29 kB)\n",
      "Collecting redis>=3.5.3\n",
      "  Downloading redis-5.0.3-py3-none-any.whl (251 kB)\n",
      "     -------------------------------------- 251.8/251.8 kB 5.1 MB/s eta 0:00:00\n",
      "Requirement already satisfied: requests>=2.25.0 in c:\\users\\athar\\anaconda3\\lib\\site-packages (from spotipy) (2.31.0)\n",
      "Requirement already satisfied: six>=1.15.0 in c:\\users\\athar\\anaconda3\\lib\\site-packages (from spotipy) (1.16.0)\n",
      "Requirement already satisfied: urllib3>=1.26.0 in c:\\users\\athar\\anaconda3\\lib\\site-packages (from spotipy) (1.26.11)\n",
      "Requirement already satisfied: async-timeout>=4.0.3 in c:\\users\\athar\\anaconda3\\lib\\site-packages (from redis>=3.5.3->spotipy) (4.0.3)\n",
      "Requirement already satisfied: certifi>=2017.4.17 in c:\\users\\athar\\anaconda3\\lib\\site-packages (from requests>=2.25.0->spotipy) (2023.5.7)\n",
      "Requirement already satisfied: charset-normalizer<4,>=2 in c:\\users\\athar\\anaconda3\\lib\\site-packages (from requests>=2.25.0->spotipy) (2.0.4)\n",
      "Requirement already satisfied: idna<4,>=2.5 in c:\\users\\athar\\anaconda3\\lib\\site-packages (from requests>=2.25.0->spotipy) (3.3)\n",
      "Installing collected packages: redis, spotipy\n",
      "Successfully installed redis-5.0.3 spotipy-2.23.0\n",
      "Note: you may need to restart the kernel to use updated packages.\n"
     ]
    }
   ],
   "source": [
    "pip install spotipy"
   ]
  },
  {
   "cell_type": "markdown",
   "metadata": {},
   "source": [
    "# Spotify Integration"
   ]
  },
  {
   "cell_type": "code",
   "execution_count": null,
   "metadata": {},
   "outputs": [],
   "source": [
    "discussions_df = pd.read_csv('data/Discussions.csv', header=0, encoding='utf-8')\n",
    "ratings_df = pd.read_csv('data/Ratings.csv', header=0, encoding='utf-8')\n",
    "\n",
    "# creating new columns and intializing each value to 0\n",
    "discussions_df['EnergyAvg'] = 0\n",
    "discussions_df['ValenceAvg'] = 0\n",
    "discussions_df['AcousticnessAvg'] = 0\n",
    "discussions_df['InstrumentalnessAvg'] = 0\n",
    "\n",
    "display(discussions_df)"
   ]
  },
  {
   "cell_type": "code",
   "execution_count": null,
   "metadata": {},
   "outputs": [],
   "source": [
    "for ind in range(len(discussions_df)):\n",
    "    results = spotify.album_tracks(discussions_df['SpotifyID'][ind]) # getting tracks from current album via SpotiPy\n",
    "\n",
    "    # filtering track ids into list\n",
    "    ids = []\n",
    "    for track in results['items']:\n",
    "        ids.append(track['id'])\n",
    "    numTracks = len(results['items'])\n",
    "\n",
    "    # getting features from each track in ids via SpotiPy\n",
    "    features = spotify.audio_features(ids)\n",
    "    for feature in features['audio_features']:\n",
    "        # calculating and storing average in df\n",
    "        discussions_df['EnergyAvg'][ind] += (feature['energy'] / numTracks)\n",
    "        discussions_df['ValenceAvg'][ind] += (feature['valence'] / numTracks)\n",
    "        discussions_df['AcousticnessAvg'][ind] += (feature['acousticness'] / numTracks)\n",
    "        discussions_df['InstrumentalnessAvg'][ind] += (feature['instrumentalness'] / numTracks)\n",
    "    time.sleep(3) # sleep with arbitrary time of 3 seconds for circumventing rate limit\n",
    "    \n",
    "display(discussions_df)"
   ]
  },
  {
   "cell_type": "code",
   "execution_count": null,
   "metadata": {},
   "outputs": [],
   "source": [
    "discussions_df.to_csv(\"data/Discussions_Audio_Features.csv\")"
   ]
  },
  {
   "cell_type": "code",
   "execution_count": null,
   "metadata": {},
   "outputs": [],
   "source": [
    "discussionsAF_df = pd.read_csv('data/Discussions_Audio_Features.csv', header=0, encoding='utf-8')\n",
    "\n",
    "ratings_df['WeightedEnergyRating'] = 0\n",
    "ratings_df['WeightedValenceRating'] = 0\n",
    "ratings_df['WeightedAcousticnessRating'] = 0\n",
    "ratings_df['WeightedInstrumentalnessRating'] = 0\n",
    "\n",
    "display(ratings_df)"
   ]
  },
  {
   "cell_type": "code",
   "execution_count": null,
   "metadata": {},
   "outputs": [],
   "source": [
    "merged_df = pd.merge(discussionsAF_df, ratings_df, on='DiscussionID')\n",
    "merged_df = merged_df.drop(['AlbumName', 'ArtistName', 'Date', 'AvgRating', 'Stdev', 'Attendance', 'RotationGenre', 'OtherGenre','Subgenres','ReleaseYear','FavoriteTrack','Popularity','Tracks','SpotifyID','Image', 'Unnamed: 0', 'FavoriteTrack1', 'FavoriteTrack2', 'FavoriteTrack3'], axis='columns') #cleaning up df\n",
    "\n",
    "merged_df['WeightedEnergyRating'] = merged_df['Rating'] * merged_df['EnergyAvg']\n",
    "merged_df['WeightedValenceRating'] = merged_df['Rating'] * merged_df['ValenceAvg']\n",
    "merged_df['WeightedAcousticnessRating'] = merged_df['Rating'] * merged_df['AcousticnessAvg']\n",
    "merged_df['WeightedInstrumentalnessRating'] = merged_df['Rating'] * merged_df['InstrumentalnessAvg']\n",
    "display(merged_df)"
   ]
  },
  {
   "cell_type": "markdown",
   "metadata": {},
   "source": [
    "# Baseline Estimate with weighted ratings"
   ]
  },
  {
   "cell_type": "code",
   "execution_count": null,
   "metadata": {},
   "outputs": [],
   "source": [
    "# Standard mu + b_i + b_u\n",
    "for AF in ['WeightedEnergyRating', 'WeightedValenceRating', 'WeightedAcousticnessRating', 'WeightedInstrumentalnessRating']:\n",
    "    X = merged_df.drop(columns=[AF])\n",
    "    y = merged_df[AF]\n",
    "    X_train, X_test, y_train, y_test = train_test_split(X, y, test_size=0.33, random_state=42)\n",
    "    X_train[AF] = y_train\n",
    "\n",
    "    mu = np.mean(X_train[AF])\n",
    "    y_pred = []\n",
    "    for idx, row in X_test.iterrows():\n",
    "        b_u = np.mean(X_train[X_train['MemberID'] == row['MemberID']][AF]) - mu\n",
    "        b_u = 0 if math.isnan(b_u) else b_u\n",
    "        b_i = np.mean(X_train[X_train['DiscussionID'] == row['DiscussionID']][AF]) - mu\n",
    "        b_i = 0 if math.isnan(b_i) else b_i\n",
    "        estimate = max(min(int(np.round(mu - b_u - b_i)), 10), 1)\n",
    "        y_pred.append(estimate)\n",
    "    y_pred = np.array(y_pred)\n",
    "    rmse = np.sqrt(np.mean((y_pred - y_test)**2))\n",
    "    print(AF + \" rmse: \" + str(rmse))"
   ]
  },
  {
   "cell_type": "markdown",
   "metadata": {},
   "source": [
    "# User-User Collaborative Filtering with weighted Audio Feature Ratings"
   ]
  },
  {
   "cell_type": "code",
   "execution_count": 48,
   "metadata": {},
   "outputs": [],
   "source": [
    "def cosine_similarity(vec1, vec2):\n",
    "    dot_product = np.dot(vec1, vec2)\n",
    "    norm_vec1 = np.linalg.norm(vec1)\n",
    "    norm_vec2 = np.linalg.norm(vec2)\n",
    "    retValue = dot_product / (norm_vec1 * norm_vec2) if not math.isnan(dot_product / (norm_vec1 * norm_vec2)) else 0\n",
    "    return retValue\n",
    "\n",
    "def count_non_zeros(arr):\n",
    "    return sum(1 for num in arr if num != 0)"
   ]
  },
  {
   "cell_type": "code",
   "execution_count": 49,
   "metadata": {},
   "outputs": [],
   "source": [
    "y_pred = []\n",
    "\n",
    "X = merged_df.drop(columns=['WeightedInstrumentalnessRating'])\n",
    "y = merged_df['WeightedInstrumentalnessRating']\n",
    "X_train, X_test, y_train, y_test = train_test_split(X, y, test_size=0.33, random_state=42)\n",
    "X_train['WeightedInstrumentalnessRating'] = y_train\n",
    "\n",
    "pivot_df = X_train.pivot(index='DiscussionID', columns='MemberID', values='WeightedInstrumentalnessRating')\n",
    "pivot_df = pivot_df.fillna(0)"
   ]
  },
  {
   "cell_type": "code",
   "execution_count": null,
   "metadata": {},
   "outputs": [],
   "source": [
    "user = 341\n",
    "album = 68\n",
    "user_sims = {}\n",
    "\n",
    "for member_id in pivot_df.columns:\n",
    "    if member_id != user:\n",
    "        print('User:', member_id)\n",
    "        print('Cosine Sim:', cosine_similarity(pivot_df[user], pivot_df[member_id]))\n",
    "        user_sims[member_id] = cosine_similarity(pivot_df[user], pivot_df[member_id])"
   ]
  },
  {
   "cell_type": "code",
   "execution_count": 53,
   "metadata": {},
   "outputs": [
    {
     "name": "stderr",
     "output_type": "stream",
     "text": [
      "/var/folders/zg/nhdtkkv14fj5w_ftm8sjrdt00000gn/T/ipykernel_3300/3092099898.py:5: RuntimeWarning: invalid value encountered in scalar divide\n",
      "  retValue = dot_product / (norm_vec1 * norm_vec2) if not math.isnan(dot_product / (norm_vec1 * norm_vec2)) else 0\n"
     ]
    },
    {
     "name": "stdout",
     "output_type": "stream",
     "text": [
      "RMSE: 2.236919177526273\n"
     ]
    }
   ],
   "source": [
    "for idx, row in X_test.iterrows():\n",
    "    user = row['MemberID']\n",
    "    album = row['DiscussionID']\n",
    "    user_sims = {}\n",
    "    \n",
    "    if user not in pivot_df.columns:\n",
    "        y_pred.append(int(np.round(X_train['WeightedInstrumentalnessRating'].mean(),0)))\n",
    "        continue\n",
    "    if album not in pivot_df.index:\n",
    "        y_pred.append(int(np.round(X_train['WeightedInstrumentalnessRating'].mean(),0)))\n",
    "        continue\n",
    "\n",
    "    for member_id in pivot_df.columns:\n",
    "        if member_id != user:\n",
    "            user_sims[member_id] = cosine_similarity(pivot_df[user], pivot_df[member_id])\n",
    "\n",
    "    rated_users = []\n",
    "    for i in pivot_df.columns:\n",
    "        if pivot_df[i][album] != 0 and i != user:\n",
    "            rated_users.append(i)\n",
    "    rated_user_sims = []\n",
    "    for u in rated_users:\n",
    "        rated_user_sims.append(user_sims[u])\n",
    "\n",
    "    top5_rated_users = []\n",
    "    top5_sims = []\n",
    "    sorted_pairs = sorted(zip(rated_users, rated_user_sims), key=lambda x: x[1], reverse=True)\n",
    "    for top5_user, sim in sorted_pairs[:5]:\n",
    "        top5_rated_users.append(top5_user)\n",
    "        top5_sims.append(sim)\n",
    "    normalized_top5_sims = [x * sum(top5_sims) for x in normalized_top5_sims]\n",
    "\n",
    "    pred_r = 0\n",
    "    ind = 0\n",
    "    # # predict the rating with the weighted avg\n",
    "    for u in top5_rated_users:\n",
    "        pred_r += normalized_top5_sims[ind] * pivot_df[u][album]\n",
    "        ind += 1\n",
    "\n",
    "    y_pred.append(int(np.round(pred_r,0)))\n",
    "    \n",
    "y_pred = np.array(y_pred)\n",
    "rmse = np.sqrt(np.mean((y_pred - y_test)**2))\n",
    "print(\"RMSE:\", rmse)"
   ]
  },
  {
   "cell_type": "markdown",
   "metadata": {},
   "source": [
    "# Your Turn\n",
    "Fill out the the database with audio features (watch out for 429 errors!) and run some of the filtering techniques we've covered on it.\n",
    "\n",
    "Content filtering is a great fit here\n",
    "\n",
    "also be cognisant of the fact that audio features are numerical values, and thus can be leveraged in weighted sums, numerical analysis, and any number of data science techniques.\n",
    "\n",
    "and like mentioned in the content filtering slides, feel free to go above and beyond with any external resoruces (like RateYourMusic, AlbumOfTheYear, etc.) you'd like!"
   ]
  },
  {
   "cell_type": "code",
   "execution_count": 44,
   "metadata": {},
   "outputs": [],
   "source": [
    "# TODO: integrate Spotify with your filtering code"
   ]
  }
 ],
 "metadata": {
  "kernelspec": {
   "display_name": "Python 3 (ipykernel)",
   "language": "python",
   "name": "python3"
  },
  "language_info": {
   "codemirror_mode": {
    "name": "ipython",
    "version": 3
   },
   "file_extension": ".py",
   "mimetype": "text/x-python",
   "name": "python",
   "nbconvert_exporter": "python",
   "pygments_lexer": "ipython3",
   "version": "3.9.13"
  }
 },
 "nbformat": 4,
 "nbformat_minor": 2
}
